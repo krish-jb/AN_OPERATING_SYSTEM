{
  "cells": [
    {
      "cell_type": "markdown",
      "source": [
        "# New Section"
      ],
      "metadata": {
        "id": "Sw4IRgRDEH4o"
      },
      "id": "Sw4IRgRDEH4o"
    },
    {
      "cell_type": "code",
      "source": [],
      "metadata": {
        "id": "v1J5D-yFESMd",
        "outputId": "c21c676a-ffa6-44dc-d4aa-07e719658a67",
        "colab": {
          "base_uri": "https://localhost:8080/",
          "height": 108
        }
      },
      "id": "v1J5D-yFESMd",
      "execution_count": 1,
      "outputs": [
        {
          "output_type": "error",
          "ename": "SyntaxError",
          "evalue": "invalid syntax (ipython-input-110392697.py, line 17)",
          "traceback": [
            "\u001b[0;36m  File \u001b[0;32m\"/tmp/ipython-input-110392697.py\"\u001b[0;36m, line \u001b[0;32m17\u001b[0m\n\u001b[0;31m    warnings.filterwarnings(&quot;ignore&quot;)\u001b[0m\n\u001b[0m                            ^\u001b[0m\n\u001b[0;31mSyntaxError\u001b[0m\u001b[0;31m:\u001b[0m invalid syntax\n"
          ]
        }
      ]
    }
  ],
  "metadata": {
    "kernelspec": {
      "display_name": "Python 3",
      "name": "python3"
    },
    "language_info": {
      "name": "python"
    },
    "required_libs": [],
    "colab": {
      "provenance": [],
      "toc_visible": true
    }
  },
  "nbformat": 4,
  "nbformat_minor": 5
}